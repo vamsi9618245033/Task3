{
  "nbformat": 4,
  "nbformat_minor": 0,
  "metadata": {
    "colab": {
      "provenance": []
    },
    "kernelspec": {
      "name": "python3",
      "display_name": "Python 3"
    },
    "language_info": {
      "name": "python"
    }
  },
  "cells": [
    {
      "cell_type": "code",
      "execution_count": 3,
      "metadata": {
        "colab": {
          "base_uri": "https://localhost:8080/"
        },
        "id": "k0hYEs_0aVNV",
        "outputId": "03586ef9-6a2a-45e9-aded-fdc7943f5f0d"
      },
      "outputs": [
        {
          "output_type": "stream",
          "name": "stdout",
          "text": [
            "Accuracy (scikit-learn): 1.0\n",
            "1/1 [==============================] - 0s 138ms/step - loss: 0.3706 - accuracy: 0.9000\n",
            "Accuracy (TensorFlow): 0.8999999761581421\n"
          ]
        }
      ],
      "source": [
        "import numpy as np\n",
        "from sklearn.datasets import load_iris\n",
        "from sklearn.model_selection import train_test_split\n",
        "from sklearn.preprocessing import StandardScaler\n",
        "from sklearn.linear_model import LogisticRegression\n",
        "from sklearn.metrics import accuracy_score\n",
        "import tensorflow as tf\n",
        "from tensorflow.keras.models import Sequential\n",
        "from tensorflow.keras.layers import Dense\n",
        "iris = load_iris()\n",
        "X, y = iris.data, iris.target\n",
        "\n",
        "X_train, X_test, y_train, y_test = train_test_split(X, y, test_size=0.2, random_state=42)\n",
        "\n",
        "scaler = StandardScaler()\n",
        "X_train_scaled = scaler.fit_transform(X_train)\n",
        "X_test_scaled = scaler.transform(X_test)\n",
        "\n",
        "model_sklearn = LogisticRegression(max_iter=1000)\n",
        "model_sklearn.fit(X_train_scaled, y_train)\n",
        "\n",
        "y_pred_sklearn = model_sklearn.predict(X_test_scaled)\n",
        "accuracy_sklearn = accuracy_score(y_test, y_pred_sklearn)\n",
        "print('Accuracy (scikit-learn):', accuracy_sklearn)\n",
        "\n",
        "model_tf = Sequential([\n",
        "    Dense(10, activation='relu', input_shape=(X_train_scaled.shape[1],)),\n",
        "    Dense(3, activation='softmax')\n",
        "])\n",
        "\n",
        "model_tf.compile(optimizer='adam', loss='sparse_categorical_crossentropy', metrics=['accuracy'])\n",
        "\n",
        "model_tf.fit(X_train_scaled, y_train, epochs=50, batch_size=32, verbose=0)\n",
        "\n",
        "loss, accuracy_tf = model_tf.evaluate(X_test_scaled, y_test)\n",
        "print('Accuracy (TensorFlow):', accuracy_tf)\n"
      ]
    }
  ]
}